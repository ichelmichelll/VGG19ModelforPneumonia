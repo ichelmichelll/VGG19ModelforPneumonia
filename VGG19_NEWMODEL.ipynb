{
  "nbformat": 4,
  "nbformat_minor": 0,
  "metadata": {
    "colab": {
      "provenance": [],
      "gpuType": "T4",
      "include_colab_link": true
    },
    "kernelspec": {
      "name": "python3",
      "display_name": "Python 3"
    },
    "language_info": {
      "name": "python"
    },
    "accelerator": "GPU"
  },
  "cells": [
    {
      "cell_type": "markdown",
      "metadata": {
        "id": "view-in-github",
        "colab_type": "text"
      },
      "source": [
        "<a href=\"https://colab.research.google.com/github/ichelmichelll/VGG19ModelforPneumonia/blob/main/VGG19_NEWMODEL.ipynb\" target=\"_parent\"><img src=\"https://colab.research.google.com/assets/colab-badge.svg\" alt=\"Open In Colab\"/></a>"
      ]
    },
    {
      "cell_type": "code",
      "execution_count": null,
      "metadata": {
        "id": "-ZsJl7SLaBco"
      },
      "outputs": [],
      "source": [
        "! pip install -q kaggle"
      ]
    },
    {
      "cell_type": "markdown",
      "source": [
        "# IMPORTING LIBRARIES"
      ],
      "metadata": {
        "id": "EPfzMswbKMzt"
      }
    },
    {
      "cell_type": "code",
      "source": [
        "from google.colab import files\n",
        "import shutil\n",
        "import os\n",
        "import keras\n",
        "from keras.models import Sequential\n",
        "from keras.layers import Dense\n",
        "from keras.preprocessing.image import ImageDataGenerator\n",
        "from tensorflow.keras.applications.vgg19 import VGG19\n",
        "from tensorflow.keras.models import Model\n",
        "from tensorflow.keras.layers import Flatten\n",
        "from tensorflow.keras.callbacks import EarlyStopping\n",
        "from sklearn.metrics import classification_report, confusion_matrix\n",
        "import pandas as pd\n",
        "import matplotlib.pyplot as plt\n",
        "from sklearn.metrics import classification_report, jaccard_score\n",
        "from sklearn.preprocessing import MultiLabelBinarizer\n",
        "import seaborn as sns\n",
        "from sklearn.metrics import multilabel_confusion_matrix\n",
        "from tensorflow.keras.optimizers import Adam"
      ],
      "metadata": {
        "id": "Od0OpMg44yK4"
      },
      "execution_count": null,
      "outputs": []
    },
    {
      "cell_type": "markdown",
      "source": [],
      "metadata": {
        "id": "ssUv4rY05ICe"
      }
    },
    {
      "cell_type": "markdown",
      "source": [
        "# LOAD DATA"
      ],
      "metadata": {
        "id": "skbVenD7KSF6"
      }
    },
    {
      "cell_type": "code",
      "source": [
        "files.upload()"
      ],
      "metadata": {
        "colab": {
          "base_uri": "https://localhost:8080/",
          "height": 91
        },
        "id": "su7lprzz42Ao",
        "outputId": "262d464b-bea0-4a10-e638-7384576f86fb"
      },
      "execution_count": null,
      "outputs": [
        {
          "output_type": "display_data",
          "data": {
            "text/plain": [
              "<IPython.core.display.HTML object>"
            ],
            "text/html": [
              "\n",
              "     <input type=\"file\" id=\"files-f61fbdad-fd8d-45d6-b346-a5e35d25cf21\" name=\"files[]\" multiple disabled\n",
              "        style=\"border:none\" />\n",
              "     <output id=\"result-f61fbdad-fd8d-45d6-b346-a5e35d25cf21\">\n",
              "      Upload widget is only available when the cell has been executed in the\n",
              "      current browser session. Please rerun this cell to enable.\n",
              "      </output>\n",
              "      <script>// Copyright 2017 Google LLC\n",
              "//\n",
              "// Licensed under the Apache License, Version 2.0 (the \"License\");\n",
              "// you may not use this file except in compliance with the License.\n",
              "// You may obtain a copy of the License at\n",
              "//\n",
              "//      http://www.apache.org/licenses/LICENSE-2.0\n",
              "//\n",
              "// Unless required by applicable law or agreed to in writing, software\n",
              "// distributed under the License is distributed on an \"AS IS\" BASIS,\n",
              "// WITHOUT WARRANTIES OR CONDITIONS OF ANY KIND, either express or implied.\n",
              "// See the License for the specific language governing permissions and\n",
              "// limitations under the License.\n",
              "\n",
              "/**\n",
              " * @fileoverview Helpers for google.colab Python module.\n",
              " */\n",
              "(function(scope) {\n",
              "function span(text, styleAttributes = {}) {\n",
              "  const element = document.createElement('span');\n",
              "  element.textContent = text;\n",
              "  for (const key of Object.keys(styleAttributes)) {\n",
              "    element.style[key] = styleAttributes[key];\n",
              "  }\n",
              "  return element;\n",
              "}\n",
              "\n",
              "// Max number of bytes which will be uploaded at a time.\n",
              "const MAX_PAYLOAD_SIZE = 100 * 1024;\n",
              "\n",
              "function _uploadFiles(inputId, outputId) {\n",
              "  const steps = uploadFilesStep(inputId, outputId);\n",
              "  const outputElement = document.getElementById(outputId);\n",
              "  // Cache steps on the outputElement to make it available for the next call\n",
              "  // to uploadFilesContinue from Python.\n",
              "  outputElement.steps = steps;\n",
              "\n",
              "  return _uploadFilesContinue(outputId);\n",
              "}\n",
              "\n",
              "// This is roughly an async generator (not supported in the browser yet),\n",
              "// where there are multiple asynchronous steps and the Python side is going\n",
              "// to poll for completion of each step.\n",
              "// This uses a Promise to block the python side on completion of each step,\n",
              "// then passes the result of the previous step as the input to the next step.\n",
              "function _uploadFilesContinue(outputId) {\n",
              "  const outputElement = document.getElementById(outputId);\n",
              "  const steps = outputElement.steps;\n",
              "\n",
              "  const next = steps.next(outputElement.lastPromiseValue);\n",
              "  return Promise.resolve(next.value.promise).then((value) => {\n",
              "    // Cache the last promise value to make it available to the next\n",
              "    // step of the generator.\n",
              "    outputElement.lastPromiseValue = value;\n",
              "    return next.value.response;\n",
              "  });\n",
              "}\n",
              "\n",
              "/**\n",
              " * Generator function which is called between each async step of the upload\n",
              " * process.\n",
              " * @param {string} inputId Element ID of the input file picker element.\n",
              " * @param {string} outputId Element ID of the output display.\n",
              " * @return {!Iterable<!Object>} Iterable of next steps.\n",
              " */\n",
              "function* uploadFilesStep(inputId, outputId) {\n",
              "  const inputElement = document.getElementById(inputId);\n",
              "  inputElement.disabled = false;\n",
              "\n",
              "  const outputElement = document.getElementById(outputId);\n",
              "  outputElement.innerHTML = '';\n",
              "\n",
              "  const pickedPromise = new Promise((resolve) => {\n",
              "    inputElement.addEventListener('change', (e) => {\n",
              "      resolve(e.target.files);\n",
              "    });\n",
              "  });\n",
              "\n",
              "  const cancel = document.createElement('button');\n",
              "  inputElement.parentElement.appendChild(cancel);\n",
              "  cancel.textContent = 'Cancel upload';\n",
              "  const cancelPromise = new Promise((resolve) => {\n",
              "    cancel.onclick = () => {\n",
              "      resolve(null);\n",
              "    };\n",
              "  });\n",
              "\n",
              "  // Wait for the user to pick the files.\n",
              "  const files = yield {\n",
              "    promise: Promise.race([pickedPromise, cancelPromise]),\n",
              "    response: {\n",
              "      action: 'starting',\n",
              "    }\n",
              "  };\n",
              "\n",
              "  cancel.remove();\n",
              "\n",
              "  // Disable the input element since further picks are not allowed.\n",
              "  inputElement.disabled = true;\n",
              "\n",
              "  if (!files) {\n",
              "    return {\n",
              "      response: {\n",
              "        action: 'complete',\n",
              "      }\n",
              "    };\n",
              "  }\n",
              "\n",
              "  for (const file of files) {\n",
              "    const li = document.createElement('li');\n",
              "    li.append(span(file.name, {fontWeight: 'bold'}));\n",
              "    li.append(span(\n",
              "        `(${file.type || 'n/a'}) - ${file.size} bytes, ` +\n",
              "        `last modified: ${\n",
              "            file.lastModifiedDate ? file.lastModifiedDate.toLocaleDateString() :\n",
              "                                    'n/a'} - `));\n",
              "    const percent = span('0% done');\n",
              "    li.appendChild(percent);\n",
              "\n",
              "    outputElement.appendChild(li);\n",
              "\n",
              "    const fileDataPromise = new Promise((resolve) => {\n",
              "      const reader = new FileReader();\n",
              "      reader.onload = (e) => {\n",
              "        resolve(e.target.result);\n",
              "      };\n",
              "      reader.readAsArrayBuffer(file);\n",
              "    });\n",
              "    // Wait for the data to be ready.\n",
              "    let fileData = yield {\n",
              "      promise: fileDataPromise,\n",
              "      response: {\n",
              "        action: 'continue',\n",
              "      }\n",
              "    };\n",
              "\n",
              "    // Use a chunked sending to avoid message size limits. See b/62115660.\n",
              "    let position = 0;\n",
              "    do {\n",
              "      const length = Math.min(fileData.byteLength - position, MAX_PAYLOAD_SIZE);\n",
              "      const chunk = new Uint8Array(fileData, position, length);\n",
              "      position += length;\n",
              "\n",
              "      const base64 = btoa(String.fromCharCode.apply(null, chunk));\n",
              "      yield {\n",
              "        response: {\n",
              "          action: 'append',\n",
              "          file: file.name,\n",
              "          data: base64,\n",
              "        },\n",
              "      };\n",
              "\n",
              "      let percentDone = fileData.byteLength === 0 ?\n",
              "          100 :\n",
              "          Math.round((position / fileData.byteLength) * 100);\n",
              "      percent.textContent = `${percentDone}% done`;\n",
              "\n",
              "    } while (position < fileData.byteLength);\n",
              "  }\n",
              "\n",
              "  // All done.\n",
              "  yield {\n",
              "    response: {\n",
              "      action: 'complete',\n",
              "    }\n",
              "  };\n",
              "}\n",
              "\n",
              "scope.google = scope.google || {};\n",
              "scope.google.colab = scope.google.colab || {};\n",
              "scope.google.colab._files = {\n",
              "  _uploadFiles,\n",
              "  _uploadFilesContinue,\n",
              "};\n",
              "})(self);\n",
              "</script> "
            ]
          },
          "metadata": {}
        },
        {
          "output_type": "stream",
          "name": "stdout",
          "text": [
            "Saving kaggle.json to kaggle.json\n"
          ]
        },
        {
          "output_type": "execute_result",
          "data": {
            "text/plain": [
              "{'kaggle.json': b'{\"username\":\"messyacarment\",\"key\":\"046aba1afffee276c187075b5128d298\"}'}"
            ]
          },
          "metadata": {},
          "execution_count": 3
        }
      ]
    },
    {
      "cell_type": "code",
      "source": [
        "! mkdir ~/.kaggle"
      ],
      "metadata": {
        "id": "7uBFc1U65ENP"
      },
      "execution_count": null,
      "outputs": []
    },
    {
      "cell_type": "code",
      "source": [
        "if 'kaggle.json' in os.listdir():\n",
        "    shutil.move('kaggle.json', '/root/.kaggle/kaggle.json')\n",
        "else:\n",
        "    print('Error: kaggle.json not found in the uploaded files.')"
      ],
      "metadata": {
        "id": "bwrTD6A-5F2Y"
      },
      "execution_count": null,
      "outputs": []
    },
    {
      "cell_type": "code",
      "source": [
        "if os.path.exists('/root/.kaggle/kaggle.json'):\n",
        "    print('kaggle.json is already in /root/.kaggle/')\n",
        "else:\n",
        "    print('kaggle.json is not found in /root/.kaggle/')"
      ],
      "metadata": {
        "colab": {
          "base_uri": "https://localhost:8080/"
        },
        "id": "BkH0tCFY5WEY",
        "outputId": "d4d60ff7-864c-4b4f-c862-89c4fb19885c"
      },
      "execution_count": null,
      "outputs": [
        {
          "output_type": "stream",
          "name": "stdout",
          "text": [
            "kaggle.json is already in /root/.kaggle/\n"
          ]
        }
      ]
    },
    {
      "cell_type": "code",
      "source": [
        "! chmod 600 ~/.kaggle/kaggle.json"
      ],
      "metadata": {
        "id": "Zb5RxfMr5YF4"
      },
      "execution_count": null,
      "outputs": []
    },
    {
      "cell_type": "code",
      "source": [
        "!kaggle datasets download -d paultimothymooney/chest-xray-pneumonia"
      ],
      "metadata": {
        "colab": {
          "base_uri": "https://localhost:8080/"
        },
        "id": "wC7YMYnu5aVv",
        "outputId": "cd5967db-fb71-4586-a54e-61fd8725e6ef"
      },
      "execution_count": null,
      "outputs": [
        {
          "output_type": "stream",
          "name": "stdout",
          "text": [
            "Dataset URL: https://www.kaggle.com/datasets/paultimothymooney/chest-xray-pneumonia\n",
            "License(s): other\n",
            "Downloading chest-xray-pneumonia.zip to /content\n",
            " 99% 2.28G/2.29G [00:15<00:00, 190MB/s]\n",
            "100% 2.29G/2.29G [00:15<00:00, 156MB/s]\n"
          ]
        }
      ]
    },
    {
      "cell_type": "code",
      "source": [
        "!sudo apt install unzip"
      ],
      "metadata": {
        "colab": {
          "base_uri": "https://localhost:8080/"
        },
        "id": "qXSMlrCT5a2n",
        "outputId": "2997c313-2dbf-4e00-c925-c03eddadff96"
      },
      "execution_count": null,
      "outputs": [
        {
          "output_type": "stream",
          "name": "stdout",
          "text": [
            "Reading package lists... Done\n",
            "Building dependency tree... Done\n",
            "Reading state information... Done\n",
            "unzip is already the newest version (6.0-26ubuntu3.2).\n",
            "0 upgraded, 0 newly installed, 0 to remove and 45 not upgraded.\n"
          ]
        }
      ]
    },
    {
      "cell_type": "code",
      "source": [
        "!unzip -q \"chest-xray-pneumonia.zip\""
      ],
      "metadata": {
        "id": "BEw42NPS5huf"
      },
      "execution_count": null,
      "outputs": []
    },
    {
      "cell_type": "code",
      "source": [
        "cd /content/chest_xray"
      ],
      "metadata": {
        "colab": {
          "base_uri": "https://localhost:8080/"
        },
        "id": "LOCC7eBr5jKf",
        "outputId": "3a1d9e36-1a22-4072-fc52-29fe33c9f3b9"
      },
      "execution_count": null,
      "outputs": [
        {
          "output_type": "stream",
          "name": "stdout",
          "text": [
            "/content/chest_xray\n"
          ]
        }
      ]
    },
    {
      "cell_type": "code",
      "source": [
        "!pwd"
      ],
      "metadata": {
        "colab": {
          "base_uri": "https://localhost:8080/"
        },
        "id": "jMYbr6QN5kZv",
        "outputId": "21c751a6-893d-48a3-dab5-f4d310e554ab"
      },
      "execution_count": null,
      "outputs": [
        {
          "output_type": "stream",
          "name": "stdout",
          "text": [
            "/content/chest_xray\n"
          ]
        }
      ]
    },
    {
      "cell_type": "markdown",
      "source": [
        "# DATA PRE-PROCESSING"
      ],
      "metadata": {
        "id": "RSbhdA1rKXS4"
      }
    },
    {
      "cell_type": "code",
      "source": [
        "image_shape =(224,224,3)"
      ],
      "metadata": {
        "id": "jKKJiMIV5o__"
      },
      "execution_count": null,
      "outputs": []
    },
    {
      "cell_type": "code",
      "source": [
        "# ImageDataGenerator untuk preprocessing data\n",
        "train_datagen = ImageDataGenerator(rotation_range=20,\n",
        "                               width_shift_range=.1,\n",
        "                               height_shift_range=.1,\n",
        "                               shear_range=.1,\n",
        "                               zoom_range= .1,\n",
        "                               horizontal_flip=True,\n",
        "                              fill_mode='nearest',\n",
        "                               rescale=1./255 )\n",
        "\n",
        "# Generator data untuk training\n",
        "training_set = train_datagen.flow_from_directory(\n",
        "        './train',\n",
        "        target_size =image_shape[:2],\n",
        "        batch_size = 32,\n",
        "        class_mode='binary')"
      ],
      "metadata": {
        "colab": {
          "base_uri": "https://localhost:8080/"
        },
        "id": "5fnNMBmF5tH_",
        "outputId": "f25d84f2-83c8-4f9d-dd65-f82dfbd03b43"
      },
      "execution_count": null,
      "outputs": [
        {
          "output_type": "stream",
          "name": "stdout",
          "text": [
            "Found 5216 images belonging to 2 classes.\n"
          ]
        }
      ]
    },
    {
      "cell_type": "code",
      "source": [
        "# Generator data untuk testing\n",
        "test_datagen = ImageDataGenerator(rescale=1./255)\n",
        "test_set = test_datagen.flow_from_directory(\n",
        "        './test',\n",
        "        target_size =image_shape[:2],\n",
        "        batch_size = 32,\n",
        "        class_mode='binary',\n",
        "        shuffle=False)"
      ],
      "metadata": {
        "colab": {
          "base_uri": "https://localhost:8080/"
        },
        "id": "laznT5lZ5tr3",
        "outputId": "eb90f1c8-2ab7-420e-a312-e988a13e2f60"
      },
      "execution_count": null,
      "outputs": [
        {
          "output_type": "stream",
          "name": "stdout",
          "text": [
            "Found 624 images belonging to 2 classes.\n"
          ]
        }
      ]
    },
    {
      "cell_type": "code",
      "source": [
        "train_datagen.flow_from_directory('./train')"
      ],
      "metadata": {
        "colab": {
          "base_uri": "https://localhost:8080/"
        },
        "id": "qnsvtOVa5u-_",
        "outputId": "ff3b42ee-c590-494a-9011-0b0a0f246651"
      },
      "execution_count": null,
      "outputs": [
        {
          "output_type": "stream",
          "name": "stdout",
          "text": [
            "Found 5216 images belonging to 2 classes.\n"
          ]
        },
        {
          "output_type": "execute_result",
          "data": {
            "text/plain": [
              "<keras.src.preprocessing.image.DirectoryIterator at 0x7989aedd0880>"
            ]
          },
          "metadata": {},
          "execution_count": 16
        }
      ]
    },
    {
      "cell_type": "code",
      "source": [
        "test_datagen.flow_from_directory('./test')"
      ],
      "metadata": {
        "colab": {
          "base_uri": "https://localhost:8080/"
        },
        "id": "8dauG8cL5wLP",
        "outputId": "a5df3bdd-c26b-4696-d8ef-b13bb3ae1792"
      },
      "execution_count": null,
      "outputs": [
        {
          "output_type": "stream",
          "name": "stdout",
          "text": [
            "Found 624 images belonging to 2 classes.\n"
          ]
        },
        {
          "output_type": "execute_result",
          "data": {
            "text/plain": [
              "<keras.src.preprocessing.image.DirectoryIterator at 0x7989aedd0610>"
            ]
          },
          "metadata": {},
          "execution_count": 17
        }
      ]
    },
    {
      "cell_type": "markdown",
      "source": [
        "# TRAINING & TESTING DATA USING VGG-19"
      ],
      "metadata": {
        "id": "FcGXVgq0Kc0T"
      }
    },
    {
      "cell_type": "code",
      "source": [
        "Model\n",
        "# Load the VGG19 model, without the top layers, with pre-trained ImageNet weights\n",
        "vgg = VGG19(input_shape=image_shape, weights='imagenet', include_top=False)\n",
        "# Freeze the layers of VGG19\n",
        "for layer in vgg.layers:\n",
        "    layer.trainable = False\n",
        "\n",
        "# Add custom layers on top\n",
        "x = Flatten()(vgg.output)\n",
        "x = Dense(512, activation='relu')(x)\n",
        "prediction = Dense(1, activation='sigmoid')(x)\n",
        "\n",
        "# Create the model\n",
        "modelvgg = Model(inputs=vgg.input, outputs=prediction)# Model\n",
        "# Load the VGG19 model, without the top layers, with pre-trained ImageNet weights\n",
        "vgg = VGG19(input_shape=image_shape, weights='imagenet', include_top=False)\n",
        "# Freeze the layers of VGG19\n",
        "for layer in vgg.layers:\n",
        "    layer.trainable = False\n",
        "\n",
        "# Add custom layers on top\n",
        "x = Flatten()(vgg.output)\n",
        "x = Dense(512, activation='relu')(x)\n",
        "prediction = Dense(1, activation='sigmoid')(x)\n",
        "\n",
        "# Create the model\n",
        "modelvgg = Model(inputs=vgg.input, outputs=prediction)"
      ],
      "metadata": {
        "colab": {
          "base_uri": "https://localhost:8080/"
        },
        "id": "dDW6Vddi5x9n",
        "outputId": "4ce09fb3-270d-4ea6-e791-7405909d1922"
      },
      "execution_count": null,
      "outputs": [
        {
          "output_type": "stream",
          "name": "stdout",
          "text": [
            "Downloading data from https://storage.googleapis.com/tensorflow/keras-applications/vgg19/vgg19_weights_tf_dim_ordering_tf_kernels_notop.h5\n",
            "80134624/80134624 [==============================] - 0s 0us/step\n"
          ]
        }
      ]
    },
    {
      "cell_type": "code",
      "source": [
        "modelvgg.compile(optimizer=Adam(learning_rate=0.0001),loss='binary_crossentropy', metrics=['accuracy'])modelvgg.compile(optimizer=Adam(learning_rate=0.0001),loss='binary_crossentropy', metrics=['accuracy'])"
      ],
      "metadata": {
        "id": "wAptT7yU5z8_"
      },
      "execution_count": null,
      "outputs": []
    },
    {
      "cell_type": "code",
      "source": [
        "early_stop = EarlyStopping(monitor='val_loss', patience=3, verbose=1, restore_best_weights=True)"
      ],
      "metadata": {
        "id": "8-qDiCpw517I"
      },
      "execution_count": null,
      "outputs": []
    },
    {
      "cell_type": "code",
      "source": [
        "history=modelvgg.fit(training_set, epochs=20,\n",
        "                     validation_data = test_set,\n",
        "                     callbacks=[early_stop])"
      ],
      "metadata": {
        "colab": {
          "base_uri": "https://localhost:8080/"
        },
        "id": "IaxNAaPl53Jg",
        "outputId": "13b65419-9d7d-4d4e-d6fe-06a32b67a87c"
      },
      "execution_count": null,
      "outputs": [
        {
          "output_type": "stream",
          "name": "stdout",
          "text": [
            "Epoch 1/20\n",
            "163/163 [==============================] - 127s 716ms/step - loss: 0.2323 - accuracy: 0.9032 - val_loss: 0.2658 - val_accuracy: 0.8990\n",
            "Epoch 2/20\n",
            "163/163 [==============================] - 111s 680ms/step - loss: 0.1389 - accuracy: 0.9465 - val_loss: 0.3072 - val_accuracy: 0.8974\n",
            "Epoch 3/20\n",
            "163/163 [==============================] - 116s 712ms/step - loss: 0.1190 - accuracy: 0.9565 - val_loss: 0.2320 - val_accuracy: 0.9135\n",
            "Epoch 4/20\n",
            "163/163 [==============================] - 110s 677ms/step - loss: 0.1193 - accuracy: 0.9540 - val_loss: 0.3597 - val_accuracy: 0.8814\n",
            "Epoch 5/20\n",
            "163/163 [==============================] - 113s 693ms/step - loss: 0.1077 - accuracy: 0.9578 - val_loss: 0.4600 - val_accuracy: 0.8494\n",
            "Epoch 6/20\n",
            "163/163 [==============================] - ETA: 0s - loss: 0.1014 - accuracy: 0.9580Restoring model weights from the end of the best epoch: 3.\n",
            "163/163 [==============================] - 113s 693ms/step - loss: 0.1014 - accuracy: 0.9580 - val_loss: 0.5952 - val_accuracy: 0.8189\n",
            "Epoch 6: early stopping\n"
          ]
        }
      ]
    },
    {
      "cell_type": "code",
      "source": [
        "fig, ax = plt.subplots(1, 2, figsize = (30, 10))\n",
        "ax = ax.ravel()\n",
        "\n",
        "for i, metric in enumerate([\"accuracy\", \"loss\"]):\n",
        "    ax[i].plot(history.history[metric])\n",
        "    ax[i].plot(history.history[\"val_\" + metric])\n",
        "    ax[i].set_title(\"Model {}\".format(metric))\n",
        "    ax[i].set_xlabel(\"Epochs\")\n",
        "    ax[i].set_ylabel(metric)\n",
        "    ax[i].legend([\"train\", \"val\"])"
      ],
      "metadata": {
        "colab": {
          "base_uri": "https://localhost:8080/",
          "height": 487
        },
        "id": "dyinUdGx542n",
        "outputId": "0bab8bf8-0d1c-4052-93e8-d276339cd070"
      },
      "execution_count": null,
      "outputs": [
        {
          "output_type": "display_data",
          "data": {
            "text/plain": [
              "<Figure size 3000x1000 with 2 Axes>"
            ],
            "image/png": "[encoded data removed]"
          },
          "metadata": {}
        }
      ]
    },
    {
      "cell_type": "markdown",
      "source": [
        "# EVALUATION"
      ],
      "metadata": {
        "id": "uiuDZ2B3_AJw"
      }
    },
    {
      "cell_type": "code",
      "source": [
        "# Evaluate the model\n",
        "modelvgg.evaluate(test_set, verbose=0)"
      ],
      "metadata": {
        "colab": {
          "base_uri": "https://localhost:8080/"
        },
        "id": "F7oOcfoY6EnQ",
        "outputId": "cbaaabd6-937b-485d-a9a7-bc634069b981"
      },
      "execution_count": null,
      "outputs": [
        {
          "output_type": "execute_result",
          "data": {
            "text/plain": [
              "[0.23203106224536896, 0.9134615659713745]"
            ]
          },
          "metadata": {},
          "execution_count": 23
        }
      ]
    },
    {
      "cell_type": "code",
      "source": [
        "# Result\n",
        "y_pred = modelvgg.predict(test_set)\n",
        "y_pred = y_pred.round()\n",
        "y_true = test_set.classes\n",
        "print(classification_report(y_true,y_pred))"
      ],
      "metadata": {
        "colab": {
          "base_uri": "https://localhost:8080/"
        },
        "id": "TVqVJucF6H5_",
        "outputId": "ffa5f95b-c5ec-4550-8b1d-58ad79f7e8ca"
      },
      "execution_count": null,
      "outputs": [
        {
          "output_type": "stream",
          "name": "stdout",
          "text": [
            "20/20 [==============================] - 7s 305ms/step\n",
            "              precision    recall  f1-score   support\n",
            "\n",
            "           0       0.89      0.88      0.88       234\n",
            "           1       0.93      0.93      0.93       390\n",
            "\n",
            "    accuracy                           0.91       624\n",
            "   macro avg       0.91      0.91      0.91       624\n",
            "weighted avg       0.91      0.91      0.91       624\n",
            "\n"
          ]
        }
      ]
    },
    {
      "cell_type": "code",
      "source": [
        "# Result using Jaccard Similarity\n",
        "y_pred = modelvgg.predict(test_set)\n",
        "y_pred = y_pred.round()\n",
        "\n",
        "y_true=test_set.classes\n",
        "\n",
        "\n",
        "mlb = MultiLabelBinarizer()\n",
        "y_true_bin = mlb.fit_transform([[label] for label in y_true])\n",
        "y_pred_bin = mlb.transform(y_pred)\n",
        "\n",
        "accuracy = jaccard_score(y_true_bin, y_pred_bin, average='samples')\n",
        "print(\"Accuracy (Jaccard Similarity): \", accuracy)\n",
        "print(classification_report(y_true_bin, y_pred_bin))\n"
      ],
      "metadata": {
        "colab": {
          "base_uri": "https://localhost:8080/"
        },
        "id": "5nWt__yT9wSI",
        "outputId": "237cda93-b296-497f-8783-82da8e99e5a8"
      },
      "execution_count": null,
      "outputs": [
        {
          "output_type": "stream",
          "name": "stdout",
          "text": [
            "20/20 [==============================] - 11s 454ms/step\n",
            "Accuracy (Jaccard Similarity):  0.9134615384615384\n",
            "              precision    recall  f1-score   support\n",
            "\n",
            "           0       0.89      0.88      0.88       234\n",
            "           1       0.93      0.93      0.93       390\n",
            "\n",
            "   micro avg       0.91      0.91      0.91       624\n",
            "   macro avg       0.91      0.91      0.91       624\n",
            "weighted avg       0.91      0.91      0.91       624\n",
            " samples avg       0.91      0.91      0.91       624\n",
            "\n"
          ]
        }
      ]
    },
    {
      "cell_type": "code",
      "source": [
        "# Confusion Matrix\n",
        "cnf_matrix = multilabel_confusion_matrix(y_true, y_pred)\n",
        "\n",
        "plt.figure(figsize=(10,7))\n",
        "for i in range(len(mlb.classes_)):\n",
        "  plt.subplot(2,2, i+1)\n",
        "  sns.heatmap(cnf_matrix[i], annot=True, cmap=\"Blues\", fmt='g', cbar=False)\n",
        "  plt.xlabel('Predicted')\n",
        "  plt.ylabel('True')\n",
        "  plt.title(f'Confusion Matrix for Class{mlb.classes_[i]}')\n",
        "plt.tight_layout()\n",
        "plt.show()"
      ],
      "metadata": {
        "colab": {
          "base_uri": "https://localhost:8080/",
          "height": 397
        },
        "id": "fTgbqiiZ9-1g",
        "outputId": "25c29aa5-ea18-4b26-9b8a-c6e8260203dd"
      },
      "execution_count": null,
      "outputs": [
        {
          "output_type": "display_data",
          "data": {
            "text/plain": [
              "<Figure size 1000x700 with 2 Axes>"
            ],
            "image/png": "[encoded data removed]"
          },
          "metadata": {}
        }
      ]
    },
    {
      "cell_type": "code",
      "source": [
        "# Confusion Matrix based on Result using Jaccard Similarity\n",
        "cnf_matrix = multilabel_confusion_matrix(y_true_bin, y_pred_bin)\n",
        "\n",
        "plt.figure(figsize=(10,7))\n",
        "for i in range(len(mlb.classes_)):\n",
        "  plt.subplot(2,2, i+1)\n",
        "  sns.heatmap(cnf_matrix[i], annot=True, cmap=\"Blues\", fmt='g', cbar=False)\n",
        "  plt.xlabel('Predicted')\n",
        "  plt.ylabel('True')\n",
        "  plt.title(f'Confusion Matrix for Class{mlb.classes_[i]}')\n",
        "plt.tight_layout()\n",
        "plt.show()"
      ],
      "metadata": {
        "colab": {
          "base_uri": "https://localhost:8080/",
          "height": 397
        },
        "id": "ij_qedEw6MQI",
        "outputId": "b9d6864b-ee3c-4235-c429-107317121017"
      },
      "execution_count": null,
      "outputs": [
        {
          "output_type": "display_data",
          "data": {
            "text/plain": [
              "<Figure size 1000x700 with 2 Axes>"
            ],
            "image/png": "[encoded data removed]"
          },
          "metadata": {}
        }
      ]
    }
  ]
}